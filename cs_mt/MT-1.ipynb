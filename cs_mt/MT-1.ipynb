{
 "cells": [
  {
   "cell_type": "markdown",
   "metadata": {},
   "source": [
    "## ML model to predict the type of article"
   ]
  },
  {
   "cell_type": "markdown",
   "metadata": {},
   "source": [
    "1. We are providing the dataset please download it from this hyperlink articles.csv. Carefully look at the dataset information.\n",
    "\n",
    "Apply the most compatible ML algorithm and build a text classification model.\n",
    "\n",
    "The following tasks needs to be achieved while building a ML model\n",
    "\n",
    "(i)  We need all the records in “Article_Description” and “Full_Article” to be cleaned.\n",
    "      i.e) Remove the html tags    \n",
    "(ii) Merge the columns “Heading”, “Article_Description” and “Full_Article” separated by space and place the    \n",
    "      merged text in a new column name “Preprocessed_Text”    \n",
    "(iii) Remove stopwords and punctuation for all the records in the column  “Preprocessed_Text”\n",
    "(iv) Remove the leading or trailing whitespaces for all the records in the column  “Preprocessed_Text”\n",
    "(v) Apply Feature Engineering\n",
    "(vi) Build a classifier model\n",
    "(vi) Save and Reload the model from disk\n",
    "(v) Evaluate the model\n",
    "(vi) Predict Article types the unknown_articles.csv"
   ]
  },
  {
   "cell_type": "code",
   "execution_count": 5,
   "metadata": {},
   "outputs": [],
   "source": [
    "import pandas as pd\n",
    "import re\n",
    "from nltk.stem import WordNetLemmatizer\n",
    "from nltk.tokenize import RegexpTokenizer\n",
    "from nltk.corpus import stopwords\n",
    "from sklearn.feature_extraction.text import TfidfVectorizer\n",
    "import sklearn\n",
    "from sklearn.ensemble import RandomForestClassifier"
   ]
  },
  {
   "cell_type": "markdown",
   "metadata": {},
   "source": [
    "uncomment and run if models are not available"
   ]
  },
  {
   "cell_type": "code",
   "execution_count": 6,
   "metadata": {},
   "outputs": [],
   "source": [
    "# import nltk\n",
    "# nltk.download('stopwords') \n",
    "# nltk.download('wordnet')"
   ]
  },
  {
   "cell_type": "code",
   "execution_count": 7,
   "metadata": {},
   "outputs": [
    {
     "data": {
      "text/html": [
       "<div>\n",
       "<style scoped>\n",
       "    .dataframe tbody tr th:only-of-type {\n",
       "        vertical-align: middle;\n",
       "    }\n",
       "\n",
       "    .dataframe tbody tr th {\n",
       "        vertical-align: top;\n",
       "    }\n",
       "\n",
       "    .dataframe thead th {\n",
       "        text-align: right;\n",
       "    }\n",
       "</style>\n",
       "<table border=\"1\" class=\"dataframe\">\n",
       "  <thead>\n",
       "    <tr style=\"text-align: right;\">\n",
       "      <th></th>\n",
       "      <th>Id</th>\n",
       "      <th>Heading</th>\n",
       "      <th>Article.Banner.Image</th>\n",
       "      <th>Outlets</th>\n",
       "      <th>Article.Description</th>\n",
       "      <th>Full_Article</th>\n",
       "      <th>Article_Type</th>\n",
       "      <th>Tonality</th>\n",
       "    </tr>\n",
       "  </thead>\n",
       "  <tbody>\n",
       "    <tr>\n",
       "      <th>0</th>\n",
       "      <td>d6995462-5e87-453b-b64d-e9f1df6e94d2</td>\n",
       "      <td>A Puzzling Maneuver, Then Freefall: NTSB Repor...</td>\n",
       "      <td>NaN</td>\n",
       "      <td>Essex Caller</td>\n",
       "      <td>&lt;p&gt;The helicopter that crashed in Southeast Al...</td>\n",
       "      <td>&lt;p&gt;The helicopter that crashed in Southeast Al...</td>\n",
       "      <td>Commercial</td>\n",
       "      <td>Negative</td>\n",
       "    </tr>\n",
       "  </tbody>\n",
       "</table>\n",
       "</div>"
      ],
      "text/plain": [
       "                                     Id  \\\n",
       "0  d6995462-5e87-453b-b64d-e9f1df6e94d2   \n",
       "\n",
       "                                             Heading Article.Banner.Image  \\\n",
       "0  A Puzzling Maneuver, Then Freefall: NTSB Repor...                  NaN   \n",
       "\n",
       "        Outlets                                Article.Description  \\\n",
       "0  Essex Caller  <p>The helicopter that crashed in Southeast Al...   \n",
       "\n",
       "                                        Full_Article Article_Type  Tonality  \n",
       "0  <p>The helicopter that crashed in Southeast Al...   Commercial  Negative  "
      ]
     },
     "execution_count": 7,
     "metadata": {},
     "output_type": "execute_result"
    }
   ],
   "source": [
    "data = pd.read_csv(\"articles.csv\",encoding=\"latin\")\n",
    "data.head(1)"
   ]
  },
  {
   "cell_type": "code",
   "execution_count": 8,
   "metadata": {},
   "outputs": [
    {
     "data": {
      "text/html": [
       "<div>\n",
       "<style scoped>\n",
       "    .dataframe tbody tr th:only-of-type {\n",
       "        vertical-align: middle;\n",
       "    }\n",
       "\n",
       "    .dataframe tbody tr th {\n",
       "        vertical-align: top;\n",
       "    }\n",
       "\n",
       "    .dataframe thead th {\n",
       "        text-align: right;\n",
       "    }\n",
       "</style>\n",
       "<table border=\"1\" class=\"dataframe\">\n",
       "  <thead>\n",
       "    <tr style=\"text-align: right;\">\n",
       "      <th></th>\n",
       "      <th>Id</th>\n",
       "      <th>Heading</th>\n",
       "      <th>Article.Banner.Image</th>\n",
       "      <th>Outlets</th>\n",
       "      <th>Article.Description</th>\n",
       "      <th>Full_Article</th>\n",
       "      <th>Article_Type</th>\n",
       "      <th>Tonality</th>\n",
       "    </tr>\n",
       "  </thead>\n",
       "  <tbody>\n",
       "    <tr>\n",
       "      <th>count</th>\n",
       "      <td>4305</td>\n",
       "      <td>4305</td>\n",
       "      <td>1753</td>\n",
       "      <td>4305</td>\n",
       "      <td>4305</td>\n",
       "      <td>4305</td>\n",
       "      <td>4305</td>\n",
       "      <td>3873</td>\n",
       "    </tr>\n",
       "    <tr>\n",
       "      <th>unique</th>\n",
       "      <td>4305</td>\n",
       "      <td>4020</td>\n",
       "      <td>1686</td>\n",
       "      <td>1762</td>\n",
       "      <td>4291</td>\n",
       "      <td>4305</td>\n",
       "      <td>7</td>\n",
       "      <td>3</td>\n",
       "    </tr>\n",
       "    <tr>\n",
       "      <th>top</th>\n",
       "      <td>055ce4d9-a547-44c5-9aee-284eb9d3b7ad</td>\n",
       "      <td>Boeing CEO: First Operational Self-Flying Cars...</td>\n",
       "      <td>https://cdn.aviationtoday.com/wp-content/uploa...</td>\n",
       "      <td>WeChat</td>\n",
       "      <td>&lt;p&gt;Airbus Helicopters has delivered the first ...</td>\n",
       "      <td>&lt;p&gt;US Marine wing support squadrons have a res...</td>\n",
       "      <td>Commercial</td>\n",
       "      <td>Positive</td>\n",
       "    </tr>\n",
       "    <tr>\n",
       "      <th>freq</th>\n",
       "      <td>1</td>\n",
       "      <td>8</td>\n",
       "      <td>3</td>\n",
       "      <td>208</td>\n",
       "      <td>2</td>\n",
       "      <td>1</td>\n",
       "      <td>2470</td>\n",
       "      <td>3286</td>\n",
       "    </tr>\n",
       "  </tbody>\n",
       "</table>\n",
       "</div>"
      ],
      "text/plain": [
       "                                          Id  \\\n",
       "count                                   4305   \n",
       "unique                                  4305   \n",
       "top     055ce4d9-a547-44c5-9aee-284eb9d3b7ad   \n",
       "freq                                       1   \n",
       "\n",
       "                                                  Heading  \\\n",
       "count                                                4305   \n",
       "unique                                               4020   \n",
       "top     Boeing CEO: First Operational Self-Flying Cars...   \n",
       "freq                                                    8   \n",
       "\n",
       "                                     Article.Banner.Image Outlets  \\\n",
       "count                                                1753    4305   \n",
       "unique                                               1686    1762   \n",
       "top     https://cdn.aviationtoday.com/wp-content/uploa...  WeChat   \n",
       "freq                                                    3     208   \n",
       "\n",
       "                                      Article.Description  \\\n",
       "count                                                4305   \n",
       "unique                                               4291   \n",
       "top     <p>Airbus Helicopters has delivered the first ...   \n",
       "freq                                                    2   \n",
       "\n",
       "                                             Full_Article Article_Type  \\\n",
       "count                                                4305         4305   \n",
       "unique                                               4305            7   \n",
       "top     <p>US Marine wing support squadrons have a res...   Commercial   \n",
       "freq                                                    1         2470   \n",
       "\n",
       "        Tonality  \n",
       "count       3873  \n",
       "unique         3  \n",
       "top     Positive  \n",
       "freq        3286  "
      ]
     },
     "execution_count": 8,
     "metadata": {},
     "output_type": "execute_result"
    }
   ],
   "source": [
    "data.describe(include='all')"
   ]
  },
  {
   "cell_type": "code",
   "execution_count": 9,
   "metadata": {},
   "outputs": [
    {
     "data": {
      "text/plain": [
       "'<p>The helicopter that crashed in Southeast Alaska in late September, killing three people, entered a 500-foot freefall before dropping to a Glacier Bay National Park beach, according to by the National Transportation Safety Board. The preliminary NTSB report released Friday offers no official probable cause. That determination won&lsquo;t be made until next year at the earliest.</p>'"
      ]
     },
     "execution_count": 9,
     "metadata": {},
     "output_type": "execute_result"
    }
   ],
   "source": [
    "data[\"Article.Description\"][0]"
   ]
  },
  {
   "cell_type": "code",
   "execution_count": 10,
   "metadata": {},
   "outputs": [
    {
     "data": {
      "text/plain": [
       "'<p>The helicopter that crashed in Southeast Alaska in late September, killing three people, entered a 500-foot freefall before dropping to a Glacier Bay National Park beach, according to by the National Transportation Safety Board.&nbsp;The preliminary NTSB report released Friday offers no official probable cause. That determination won&lsquo;t be made until next year at the earliest.</p>'"
      ]
     },
     "execution_count": 10,
     "metadata": {},
     "output_type": "execute_result"
    }
   ],
   "source": [
    "data[\"Full_Article\"][0]"
   ]
  },
  {
   "cell_type": "code",
   "execution_count": 11,
   "metadata": {},
   "outputs": [],
   "source": [
    "def remove_tags(string):\n",
    "    result = re.sub('<.*?>','',string)\n",
    "    return result"
   ]
  },
  {
   "cell_type": "markdown",
   "metadata": {},
   "source": [
    "(i) We need all the records in “Article_Description” and “Full_Article” to be cleaned. i.e) Remove the html tags"
   ]
  },
  {
   "cell_type": "code",
   "execution_count": 12,
   "metadata": {},
   "outputs": [
    {
     "data": {
      "text/html": [
       "<div>\n",
       "<style scoped>\n",
       "    .dataframe tbody tr th:only-of-type {\n",
       "        vertical-align: middle;\n",
       "    }\n",
       "\n",
       "    .dataframe tbody tr th {\n",
       "        vertical-align: top;\n",
       "    }\n",
       "\n",
       "    .dataframe thead th {\n",
       "        text-align: right;\n",
       "    }\n",
       "</style>\n",
       "<table border=\"1\" class=\"dataframe\">\n",
       "  <thead>\n",
       "    <tr style=\"text-align: right;\">\n",
       "      <th></th>\n",
       "      <th>Id</th>\n",
       "      <th>Heading</th>\n",
       "      <th>Article.Banner.Image</th>\n",
       "      <th>Outlets</th>\n",
       "      <th>Article.Description</th>\n",
       "      <th>Full_Article</th>\n",
       "      <th>Article_Type</th>\n",
       "      <th>Tonality</th>\n",
       "    </tr>\n",
       "  </thead>\n",
       "  <tbody>\n",
       "    <tr>\n",
       "      <th>0</th>\n",
       "      <td>d6995462-5e87-453b-b64d-e9f1df6e94d2</td>\n",
       "      <td>A Puzzling Maneuver, Then Freefall: NTSB Repor...</td>\n",
       "      <td>NaN</td>\n",
       "      <td>Essex Caller</td>\n",
       "      <td>The helicopter that crashed in Southeast Alask...</td>\n",
       "      <td>The helicopter that crashed in Southeast Alask...</td>\n",
       "      <td>Commercial</td>\n",
       "      <td>Negative</td>\n",
       "    </tr>\n",
       "  </tbody>\n",
       "</table>\n",
       "</div>"
      ],
      "text/plain": [
       "                                     Id  \\\n",
       "0  d6995462-5e87-453b-b64d-e9f1df6e94d2   \n",
       "\n",
       "                                             Heading Article.Banner.Image  \\\n",
       "0  A Puzzling Maneuver, Then Freefall: NTSB Repor...                  NaN   \n",
       "\n",
       "        Outlets                                Article.Description  \\\n",
       "0  Essex Caller  The helicopter that crashed in Southeast Alask...   \n",
       "\n",
       "                                        Full_Article Article_Type  Tonality  \n",
       "0  The helicopter that crashed in Southeast Alask...   Commercial  Negative  "
      ]
     },
     "execution_count": 12,
     "metadata": {},
     "output_type": "execute_result"
    }
   ],
   "source": [
    "data[\"Article.Description\"]=data['Article.Description'].apply(lambda x : remove_tags(x))\n",
    "data[\"Full_Article\"]=data['Full_Article'].apply(lambda x : remove_tags(x))\n",
    "data.head(1)"
   ]
  },
  {
   "cell_type": "markdown",
   "metadata": {},
   "source": [
    "(ii) Merge the columns “Heading”, “Article_Description” and “Full_Article” separated by space and place the\n",
    "merged text in a new column name “Preprocessed_Text”"
   ]
  },
  {
   "cell_type": "code",
   "execution_count": 13,
   "metadata": {},
   "outputs": [
    {
     "data": {
      "text/html": [
       "<div>\n",
       "<style scoped>\n",
       "    .dataframe tbody tr th:only-of-type {\n",
       "        vertical-align: middle;\n",
       "    }\n",
       "\n",
       "    .dataframe tbody tr th {\n",
       "        vertical-align: top;\n",
       "    }\n",
       "\n",
       "    .dataframe thead th {\n",
       "        text-align: right;\n",
       "    }\n",
       "</style>\n",
       "<table border=\"1\" class=\"dataframe\">\n",
       "  <thead>\n",
       "    <tr style=\"text-align: right;\">\n",
       "      <th></th>\n",
       "      <th>Id</th>\n",
       "      <th>Heading</th>\n",
       "      <th>Article.Banner.Image</th>\n",
       "      <th>Outlets</th>\n",
       "      <th>Article.Description</th>\n",
       "      <th>Full_Article</th>\n",
       "      <th>Article_Type</th>\n",
       "      <th>Tonality</th>\n",
       "      <th>Preprocessed_Text</th>\n",
       "    </tr>\n",
       "  </thead>\n",
       "  <tbody>\n",
       "    <tr>\n",
       "      <th>0</th>\n",
       "      <td>d6995462-5e87-453b-b64d-e9f1df6e94d2</td>\n",
       "      <td>A Puzzling Maneuver, Then Freefall: NTSB Repor...</td>\n",
       "      <td>NaN</td>\n",
       "      <td>Essex Caller</td>\n",
       "      <td>The helicopter that crashed in Southeast Alask...</td>\n",
       "      <td>The helicopter that crashed in Southeast Alask...</td>\n",
       "      <td>Commercial</td>\n",
       "      <td>Negative</td>\n",
       "      <td>A Puzzling Maneuver, Then Freefall: NTSB Repor...</td>\n",
       "    </tr>\n",
       "  </tbody>\n",
       "</table>\n",
       "</div>"
      ],
      "text/plain": [
       "                                     Id  \\\n",
       "0  d6995462-5e87-453b-b64d-e9f1df6e94d2   \n",
       "\n",
       "                                             Heading Article.Banner.Image  \\\n",
       "0  A Puzzling Maneuver, Then Freefall: NTSB Repor...                  NaN   \n",
       "\n",
       "        Outlets                                Article.Description  \\\n",
       "0  Essex Caller  The helicopter that crashed in Southeast Alask...   \n",
       "\n",
       "                                        Full_Article Article_Type  Tonality  \\\n",
       "0  The helicopter that crashed in Southeast Alask...   Commercial  Negative   \n",
       "\n",
       "                                   Preprocessed_Text  \n",
       "0  A Puzzling Maneuver, Then Freefall: NTSB Repor...  "
      ]
     },
     "execution_count": 13,
     "metadata": {},
     "output_type": "execute_result"
    }
   ],
   "source": [
    "data[\"Preprocessed_Text\"] = data[\"Heading\"]+\" \"+data[\"Article.Description\"]+\" \"+data[\"Full_Article\"]\n",
    "data.head(1)"
   ]
  },
  {
   "cell_type": "markdown",
   "metadata": {},
   "source": [
    "(iii) Remove stopwords and punctuation for all the records in the column “Preprocessed_Text”"
   ]
  },
  {
   "cell_type": "code",
   "execution_count": 14,
   "metadata": {},
   "outputs": [],
   "source": [
    "def preprocess_text(text):\n",
    "    # Tokenise words while ignoring punctuation\n",
    "    tokeniser = RegexpTokenizer(r'\\w+')\n",
    "    tokens = tokeniser.tokenize(text)\n",
    "    \n",
    "    # Lowercase and lemmatise \n",
    "    lemmatiser = WordNetLemmatizer()\n",
    "    lemmas = [lemmatiser.lemmatize(token.lower(), pos='v') for token in tokens]\n",
    "    \n",
    "    # Remove stopwords\n",
    "    keywords= [lemma for lemma in lemmas if lemma not in stopwords.words('english')]\n",
    "    return \" \".join(keywords)\n",
    "\n",
    "def preprocess_(text):\n",
    "    # Tokenise words while ignoring punctuation\n",
    "    tokeniser = RegexpTokenizer(r'\\w+')\n",
    "    tokens = tokeniser.tokenize(text)\n",
    "    \n",
    "    # Lowercase and lemmatise \n",
    "    lemmatiser = WordNetLemmatizer()\n",
    "    lemmas = [lemmatiser.lemmatize(token.lower(), pos='v') for token in tokens]\n",
    "    \n",
    "    # Remove stopwords\n",
    "    keywords= [lemma for lemma in lemmas if lemma not in stopwords.words('english')]\n",
    "    return keywords"
   ]
  },
  {
   "cell_type": "code",
   "execution_count": 15,
   "metadata": {},
   "outputs": [
    {
     "data": {
      "text/html": [
       "<div>\n",
       "<style scoped>\n",
       "    .dataframe tbody tr th:only-of-type {\n",
       "        vertical-align: middle;\n",
       "    }\n",
       "\n",
       "    .dataframe tbody tr th {\n",
       "        vertical-align: top;\n",
       "    }\n",
       "\n",
       "    .dataframe thead th {\n",
       "        text-align: right;\n",
       "    }\n",
       "</style>\n",
       "<table border=\"1\" class=\"dataframe\">\n",
       "  <thead>\n",
       "    <tr style=\"text-align: right;\">\n",
       "      <th></th>\n",
       "      <th>Id</th>\n",
       "      <th>Heading</th>\n",
       "      <th>Article.Banner.Image</th>\n",
       "      <th>Outlets</th>\n",
       "      <th>Article.Description</th>\n",
       "      <th>Full_Article</th>\n",
       "      <th>Article_Type</th>\n",
       "      <th>Tonality</th>\n",
       "      <th>Preprocessed_Text</th>\n",
       "    </tr>\n",
       "  </thead>\n",
       "  <tbody>\n",
       "    <tr>\n",
       "      <th>0</th>\n",
       "      <td>d6995462-5e87-453b-b64d-e9f1df6e94d2</td>\n",
       "      <td>A Puzzling Maneuver, Then Freefall: NTSB Repor...</td>\n",
       "      <td>NaN</td>\n",
       "      <td>Essex Caller</td>\n",
       "      <td>The helicopter that crashed in Southeast Alask...</td>\n",
       "      <td>The helicopter that crashed in Southeast Alask...</td>\n",
       "      <td>Commercial</td>\n",
       "      <td>Negative</td>\n",
       "      <td>puzzle maneuver freefall ntsb report provide n...</td>\n",
       "    </tr>\n",
       "  </tbody>\n",
       "</table>\n",
       "</div>"
      ],
      "text/plain": [
       "                                     Id  \\\n",
       "0  d6995462-5e87-453b-b64d-e9f1df6e94d2   \n",
       "\n",
       "                                             Heading Article.Banner.Image  \\\n",
       "0  A Puzzling Maneuver, Then Freefall: NTSB Repor...                  NaN   \n",
       "\n",
       "        Outlets                                Article.Description  \\\n",
       "0  Essex Caller  The helicopter that crashed in Southeast Alask...   \n",
       "\n",
       "                                        Full_Article Article_Type  Tonality  \\\n",
       "0  The helicopter that crashed in Southeast Alask...   Commercial  Negative   \n",
       "\n",
       "                                   Preprocessed_Text  \n",
       "0  puzzle maneuver freefall ntsb report provide n...  "
      ]
     },
     "execution_count": 15,
     "metadata": {},
     "output_type": "execute_result"
    }
   ],
   "source": [
    "data[\"Preprocessed_Text\"] = data['Preprocessed_Text'].apply(lambda x : preprocess_text(x))\n",
    "data.head(1)"
   ]
  },
  {
   "cell_type": "markdown",
   "metadata": {},
   "source": [
    " (iv) Remove the leading or trailing whitespaces for all the records in the column “Preprocessed_Text”"
   ]
  },
  {
   "cell_type": "code",
   "execution_count": 16,
   "metadata": {},
   "outputs": [
    {
     "data": {
      "text/html": [
       "<div>\n",
       "<style scoped>\n",
       "    .dataframe tbody tr th:only-of-type {\n",
       "        vertical-align: middle;\n",
       "    }\n",
       "\n",
       "    .dataframe tbody tr th {\n",
       "        vertical-align: top;\n",
       "    }\n",
       "\n",
       "    .dataframe thead th {\n",
       "        text-align: right;\n",
       "    }\n",
       "</style>\n",
       "<table border=\"1\" class=\"dataframe\">\n",
       "  <thead>\n",
       "    <tr style=\"text-align: right;\">\n",
       "      <th></th>\n",
       "      <th>Id</th>\n",
       "      <th>Heading</th>\n",
       "      <th>Article.Banner.Image</th>\n",
       "      <th>Outlets</th>\n",
       "      <th>Article.Description</th>\n",
       "      <th>Full_Article</th>\n",
       "      <th>Article_Type</th>\n",
       "      <th>Tonality</th>\n",
       "      <th>Preprocessed_Text</th>\n",
       "    </tr>\n",
       "  </thead>\n",
       "  <tbody>\n",
       "    <tr>\n",
       "      <th>0</th>\n",
       "      <td>d6995462-5e87-453b-b64d-e9f1df6e94d2</td>\n",
       "      <td>A Puzzling Maneuver, Then Freefall: NTSB Repor...</td>\n",
       "      <td>NaN</td>\n",
       "      <td>Essex Caller</td>\n",
       "      <td>The helicopter that crashed in Southeast Alask...</td>\n",
       "      <td>The helicopter that crashed in Southeast Alask...</td>\n",
       "      <td>Commercial</td>\n",
       "      <td>Negative</td>\n",
       "      <td>puzzle maneuver freefall ntsb report provide n...</td>\n",
       "    </tr>\n",
       "  </tbody>\n",
       "</table>\n",
       "</div>"
      ],
      "text/plain": [
       "                                     Id  \\\n",
       "0  d6995462-5e87-453b-b64d-e9f1df6e94d2   \n",
       "\n",
       "                                             Heading Article.Banner.Image  \\\n",
       "0  A Puzzling Maneuver, Then Freefall: NTSB Repor...                  NaN   \n",
       "\n",
       "        Outlets                                Article.Description  \\\n",
       "0  Essex Caller  The helicopter that crashed in Southeast Alask...   \n",
       "\n",
       "                                        Full_Article Article_Type  Tonality  \\\n",
       "0  The helicopter that crashed in Southeast Alask...   Commercial  Negative   \n",
       "\n",
       "                                   Preprocessed_Text  \n",
       "0  puzzle maneuver freefall ntsb report provide n...  "
      ]
     },
     "execution_count": 16,
     "metadata": {},
     "output_type": "execute_result"
    }
   ],
   "source": [
    "data[\"Preprocessed_Text\"] = data['Preprocessed_Text'].apply(lambda x : x.strip())\n",
    "data.head(1)"
   ]
  },
  {
   "cell_type": "markdown",
   "metadata": {},
   "source": [
    "(v) Apply Feature Engineering"
   ]
  },
  {
   "cell_type": "code",
   "execution_count": 17,
   "metadata": {},
   "outputs": [],
   "source": [
    "vectoriser = TfidfVectorizer(analyzer=preprocess_)\n",
    "X_train = vectoriser.fit_transform(data['Preprocessed_Text'])\n",
    "Y_train = pd.get_dummies(data[\"Tonality\"])"
   ]
  },
  {
   "cell_type": "markdown",
   "metadata": {},
   "source": [
    "(vi) Build a classifier model "
   ]
  },
  {
   "cell_type": "code",
   "execution_count": 18,
   "metadata": {},
   "outputs": [
    {
     "data": {
      "text/plain": [
       "RandomForestClassifier(bootstrap=True, class_weight=None, criterion='gini',\n",
       "            max_depth=None, max_features='auto', max_leaf_nodes=None,\n",
       "            min_impurity_decrease=0.0, min_impurity_split=None,\n",
       "            min_samples_leaf=1, min_samples_split=2,\n",
       "            min_weight_fraction_leaf=0.0, n_estimators=10, n_jobs=2,\n",
       "            oob_score=False, random_state=0, verbose=0, warm_start=False)"
      ]
     },
     "execution_count": 18,
     "metadata": {},
     "output_type": "execute_result"
    }
   ],
   "source": [
    "clf = RandomForestClassifier(n_jobs=2, random_state=0)\n",
    "clf.fit(X_train, Y_train)"
   ]
  },
  {
   "cell_type": "markdown",
   "metadata": {},
   "source": [
    "(vi) Save and Reload the model from disk"
   ]
  },
  {
   "cell_type": "code",
   "execution_count": 19,
   "metadata": {},
   "outputs": [],
   "source": [
    "import pickle\n",
    "pickle.dump(clf, open(\"rf.pickle\", 'wb'))\n",
    "clf_loaded = pickle.load(open(\"rf.pickle\", 'rb'))"
   ]
  },
  {
   "cell_type": "markdown",
   "metadata": {},
   "source": [
    "(v) Evaluate the model "
   ]
  },
  {
   "cell_type": "code",
   "execution_count": 20,
   "metadata": {},
   "outputs": [
    {
     "data": {
      "text/plain": [
       "0.9858304297328687"
      ]
     },
     "execution_count": 20,
     "metadata": {},
     "output_type": "execute_result"
    }
   ],
   "source": [
    "preds = clf_loaded.predict(X_train)\n",
    "sklearn.metrics.accuracy_score(preds,Y_train)"
   ]
  },
  {
   "cell_type": "markdown",
   "metadata": {},
   "source": [
    " (vi) Predict Article types the unknown_articles.csv"
   ]
  },
  {
   "cell_type": "code",
   "execution_count": 21,
   "metadata": {},
   "outputs": [],
   "source": [
    "# Its has only url leyt me write the pseduocode - time constrains\n",
    "# 1. Iterate the column\n",
    "# 2. apply post method to retrive the website content\n",
    "# 3. Using beautiful soup extract the raw text\n",
    "# 4. segregate\n",
    "# 5. ML process cleaning, feature , apply in the trained model"
   ]
  },
  {
   "cell_type": "code",
   "execution_count": null,
   "metadata": {},
   "outputs": [],
   "source": []
  },
  {
   "cell_type": "code",
   "execution_count": null,
   "metadata": {},
   "outputs": [],
   "source": []
  }
 ],
 "metadata": {
  "kernelspec": {
   "display_name": "Python 3",
   "language": "python",
   "name": "python3"
  },
  "language_info": {
   "codemirror_mode": {
    "name": "ipython",
    "version": 3
   },
   "file_extension": ".py",
   "mimetype": "text/x-python",
   "name": "python",
   "nbconvert_exporter": "python",
   "pygments_lexer": "ipython3",
   "version": "3.6.5"
  }
 },
 "nbformat": 4,
 "nbformat_minor": 2
}
